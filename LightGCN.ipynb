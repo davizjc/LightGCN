{
  "cells": [
    {
      "cell_type": "code",
      "execution_count": null,
      "id": "50327958",
      "metadata": {
        "id": "50327958",
        "outputId": "7dedf6ab-c809-4673-8f35-e281ca709f17"
      },
      "outputs": [
        {
          "name": "stdout",
          "output_type": "stream",
          "text": [
            "\u001b[31mERROR: Could not find a version that satisfies the requirement torch==1.9.0 (from versions: 2.0.0, 2.0.1)\u001b[0m\u001b[31m\n",
            "\u001b[0m\u001b[31mERROR: No matching distribution found for torch==1.9.0\u001b[0m\u001b[31m\n",
            "\u001b[0m\n",
            "\u001b[1m[\u001b[0m\u001b[34;49mnotice\u001b[0m\u001b[1;39;49m]\u001b[0m\u001b[39;49m A new release of pip is available: \u001b[0m\u001b[31;49m23.0.1\u001b[0m\u001b[39;49m -> \u001b[0m\u001b[32;49m23.1.2\u001b[0m\n",
            "\u001b[1m[\u001b[0m\u001b[34;49mnotice\u001b[0m\u001b[1;39;49m]\u001b[0m\u001b[39;49m To update, run: \u001b[0m\u001b[32;49mpython3.11 -m pip install --upgrade pip\u001b[0m\n"
          ]
        }
      ],
      "source": [
        "!pip install -q torch==1.9.0\n"
      ]
    },
    {
      "cell_type": "code",
      "execution_count": null,
      "id": "481ba8cc",
      "metadata": {
        "id": "481ba8cc",
        "outputId": "a59a3d36-ebf1-4068-e077-625baeb4721a"
      },
      "outputs": [
        {
          "data": {
            "text/plain": [
              "'1.9.0'"
            ]
          },
          "execution_count": 80,
          "metadata": {},
          "output_type": "execute_result"
        }
      ],
      "source": [
        "import torch\n",
        "torch.__version__"
      ]
    },
    {
      "cell_type": "raw",
      "id": "56747eea",
      "metadata": {
        "id": "56747eea"
      },
      "source": [
        "LightGCN good when data is not enough in recommendation system not\n",
        "\n",
        "*   List item\n",
        "*   List item\n",
        "\n",
        "every rating is given by one user\n",
        "\n",
        "The main idea behind LightGCN is to propagate information through the graph by aggregating the embeddings of neighboring nodes. (skip the missing neighbor node)\n",
        "\n",
        "To train LightGCN, the model typically uses a matrix factorization loss, such as the mean squared error (MSE), to minimize the difference between predicted and observed user-item interactions. The model can be trained using gradient descent-based optimization methods like stochastic gradient descent (SGD) or Adam.\n",
        "\n"
      ]
    },
    {
      "cell_type": "code",
      "execution_count": null,
      "id": "1ae88396",
      "metadata": {
        "id": "1ae88396"
      },
      "outputs": [],
      "source": [
        "import pandas as pd\n",
        "pd.set_option('display.max_colwidth', None)\n",
        "from sklearn import preprocessing as pp\n",
        "from sklearn.model_selection import train_test_split\n",
        "import scipy.sparse as sp\n",
        "import numpy as np\n",
        "import random\n",
        "import torch.nn as nn\n",
        "from torch.utils.data import Dataset, DataLoader\n",
        "import time\n",
        "import matplotlib.pyplot as plt\n",
        "from tqdm.notebook import tqdm"
      ]
    },
    {
      "cell_type": "markdown",
      "source": [
        "**DATA PREP**"
      ],
      "metadata": {
        "id": "MvXM0EK5Xbg5"
      },
      "id": "MvXM0EK5Xbg5"
    },
    {
      "cell_type": "code",
      "execution_count": null,
      "id": "d150d4b2",
      "metadata": {
        "id": "d150d4b2",
        "outputId": "402f8346-44f9-4aad-988c-87beef90b5ad"
      },
      "outputs": [
        {
          "name": "stdout",
          "output_type": "stream",
          "text": [
            "100003\n"
          ]
        },
        {
          "data": {
            "text/html": [
              "<div>\n",
              "<style scoped>\n",
              "    .dataframe tbody tr th:only-of-type {\n",
              "        vertical-align: middle;\n",
              "    }\n",
              "\n",
              "    .dataframe tbody tr th {\n",
              "        vertical-align: top;\n",
              "    }\n",
              "\n",
              "    .dataframe thead th {\n",
              "        text-align: right;\n",
              "    }\n",
              "</style>\n",
              "<table border=\"1\" class=\"dataframe\">\n",
              "  <thead>\n",
              "    <tr style=\"text-align: right;\">\n",
              "      <th></th>\n",
              "      <th>user_id</th>\n",
              "      <th>item_id</th>\n",
              "      <th>rating</th>\n",
              "      <th>timestamp</th>\n",
              "    </tr>\n",
              "  </thead>\n",
              "  <tbody>\n",
              "    <tr>\n",
              "      <th>0</th>\n",
              "      <td>0</td>\n",
              "      <td>50</td>\n",
              "      <td>5</td>\n",
              "      <td>881250949</td>\n",
              "    </tr>\n",
              "    <tr>\n",
              "      <th>1</th>\n",
              "      <td>0</td>\n",
              "      <td>172</td>\n",
              "      <td>5</td>\n",
              "      <td>881250949</td>\n",
              "    </tr>\n",
              "    <tr>\n",
              "      <th>2</th>\n",
              "      <td>0</td>\n",
              "      <td>133</td>\n",
              "      <td>1</td>\n",
              "      <td>881250949</td>\n",
              "    </tr>\n",
              "    <tr>\n",
              "      <th>3</th>\n",
              "      <td>196</td>\n",
              "      <td>242</td>\n",
              "      <td>3</td>\n",
              "      <td>881250949</td>\n",
              "    </tr>\n",
              "    <tr>\n",
              "      <th>4</th>\n",
              "      <td>186</td>\n",
              "      <td>302</td>\n",
              "      <td>3</td>\n",
              "      <td>891717742</td>\n",
              "    </tr>\n",
              "  </tbody>\n",
              "</table>\n",
              "</div>"
            ],
            "text/plain": [
              "   user_id  item_id  rating  timestamp\n",
              "0        0       50       5  881250949\n",
              "1        0      172       5  881250949\n",
              "2        0      133       1  881250949\n",
              "3      196      242       3  881250949\n",
              "4      186      302       3  891717742"
            ]
          },
          "metadata": {},
          "output_type": "display_data"
        }
      ],
      "source": [
        "columns_name=['user_id','item_id','rating','timestamp']\n",
        "#df = pd.read_csv(\"/Users/davis/Desktop/ml-100k/u.data\",sep=\"\\t\",names=columns_name)\n",
        "df = pd.read_csv(\"/Users/davis/Desktop/movie/u.data\",sep=\"\\t\",names=columns_name)\n",
        "print(len(df))\n",
        "display(df.head(5))\n",
        "#df_sorted = df.sort_values('user_id')\n",
        "#print(len(df_sorted))\n",
        "#display(df_sorted.head(5))"
      ]
    },
    {
      "cell_type": "code",
      "execution_count": null,
      "id": "c0d83695",
      "metadata": {
        "id": "c0d83695",
        "outputId": "cf40b6f4-9e55-463f-e569-abdcc52839f5"
      },
      "outputs": [
        {
          "data": {
            "text/html": [
              "<div>\n",
              "<style scoped>\n",
              "    .dataframe tbody tr th:only-of-type {\n",
              "        vertical-align: middle;\n",
              "    }\n",
              "\n",
              "    .dataframe tbody tr th {\n",
              "        vertical-align: top;\n",
              "    }\n",
              "\n",
              "    .dataframe thead th {\n",
              "        text-align: right;\n",
              "    }\n",
              "</style>\n",
              "<table border=\"1\" class=\"dataframe\">\n",
              "  <thead>\n",
              "    <tr style=\"text-align: right;\">\n",
              "      <th></th>\n",
              "      <th>item_id</th>\n",
              "      <th>title</th>\n",
              "    </tr>\n",
              "  </thead>\n",
              "  <tbody>\n",
              "    <tr>\n",
              "      <th>0</th>\n",
              "      <td>1</td>\n",
              "      <td>Toy Story (1995)</td>\n",
              "    </tr>\n",
              "    <tr>\n",
              "      <th>1</th>\n",
              "      <td>2</td>\n",
              "      <td>GoldenEye (1995)</td>\n",
              "    </tr>\n",
              "    <tr>\n",
              "      <th>2</th>\n",
              "      <td>3</td>\n",
              "      <td>Four Rooms (1995)</td>\n",
              "    </tr>\n",
              "    <tr>\n",
              "      <th>3</th>\n",
              "      <td>4</td>\n",
              "      <td>Get Shorty (1995)</td>\n",
              "    </tr>\n",
              "    <tr>\n",
              "      <th>4</th>\n",
              "      <td>5</td>\n",
              "      <td>Copycat (1995)</td>\n",
              "    </tr>\n",
              "  </tbody>\n",
              "</table>\n",
              "</div>"
            ],
            "text/plain": [
              "   item_id              title\n",
              "0        1   Toy Story (1995)\n",
              "1        2   GoldenEye (1995)\n",
              "2        3  Four Rooms (1995)\n",
              "3        4  Get Shorty (1995)\n",
              "4        5     Copycat (1995)"
            ]
          },
          "execution_count": 143,
          "metadata": {},
          "output_type": "execute_result"
        }
      ],
      "source": [
        "movie_titles = pd.read_csv(\"/Users/davis/Desktop/movie/Movie_Id_Titles\")\n",
        "movie_titles.head()"
      ]
    },
    {
      "cell_type": "code",
      "execution_count": null,
      "id": "bb49600f",
      "metadata": {
        "id": "bb49600f",
        "outputId": "a89323a8-d8a5-465a-83e7-276a31b1c1ac"
      },
      "outputs": [
        {
          "data": {
            "text/html": [
              "<div>\n",
              "<style scoped>\n",
              "    .dataframe tbody tr th:only-of-type {\n",
              "        vertical-align: middle;\n",
              "    }\n",
              "\n",
              "    .dataframe tbody tr th {\n",
              "        vertical-align: top;\n",
              "    }\n",
              "\n",
              "    .dataframe thead th {\n",
              "        text-align: right;\n",
              "    }\n",
              "</style>\n",
              "<table border=\"1\" class=\"dataframe\">\n",
              "  <thead>\n",
              "    <tr style=\"text-align: right;\">\n",
              "      <th></th>\n",
              "      <th>user_id</th>\n",
              "      <th>item_id</th>\n",
              "      <th>rating</th>\n",
              "      <th>timestamp</th>\n",
              "      <th>title</th>\n",
              "    </tr>\n",
              "  </thead>\n",
              "  <tbody>\n",
              "    <tr>\n",
              "      <th>0</th>\n",
              "      <td>0</td>\n",
              "      <td>50</td>\n",
              "      <td>5</td>\n",
              "      <td>881250949</td>\n",
              "      <td>Star Wars (1977)</td>\n",
              "    </tr>\n",
              "    <tr>\n",
              "      <th>1</th>\n",
              "      <td>290</td>\n",
              "      <td>50</td>\n",
              "      <td>5</td>\n",
              "      <td>880473582</td>\n",
              "      <td>Star Wars (1977)</td>\n",
              "    </tr>\n",
              "    <tr>\n",
              "      <th>2</th>\n",
              "      <td>79</td>\n",
              "      <td>50</td>\n",
              "      <td>4</td>\n",
              "      <td>891271545</td>\n",
              "      <td>Star Wars (1977)</td>\n",
              "    </tr>\n",
              "    <tr>\n",
              "      <th>3</th>\n",
              "      <td>2</td>\n",
              "      <td>50</td>\n",
              "      <td>5</td>\n",
              "      <td>888552084</td>\n",
              "      <td>Star Wars (1977)</td>\n",
              "    </tr>\n",
              "    <tr>\n",
              "      <th>4</th>\n",
              "      <td>8</td>\n",
              "      <td>50</td>\n",
              "      <td>5</td>\n",
              "      <td>879362124</td>\n",
              "      <td>Star Wars (1977)</td>\n",
              "    </tr>\n",
              "  </tbody>\n",
              "</table>\n",
              "</div>"
            ],
            "text/plain": [
              "   user_id  item_id  rating  timestamp             title\n",
              "0        0       50       5  881250949  Star Wars (1977)\n",
              "1      290       50       5  880473582  Star Wars (1977)\n",
              "2       79       50       4  891271545  Star Wars (1977)\n",
              "3        2       50       5  888552084  Star Wars (1977)\n",
              "4        8       50       5  879362124  Star Wars (1977)"
            ]
          },
          "execution_count": 144,
          "metadata": {},
          "output_type": "execute_result"
        }
      ],
      "source": [
        "df = pd.merge(df,movie_titles,on='item_id')\n",
        "df.head()"
      ]
    },
    {
      "cell_type": "code",
      "execution_count": null,
      "id": "add746ce",
      "metadata": {
        "id": "add746ce",
        "outputId": "ac090b95-f70d-4b6b-b344-5db3bebf61bd"
      },
      "outputs": [
        {
          "name": "stdout",
          "output_type": "stream",
          "text": [
            "82522\n",
            "Rating Distribution\n"
          ]
        },
        {
          "data": {
            "text/plain": [
              "rating\n",
              "3    27145\n",
              "4    34174\n",
              "5    21203\n",
              "Name: rating, dtype: int64"
            ]
          },
          "execution_count": 213,
          "metadata": {},
          "output_type": "execute_result"
        }
      ],
      "source": [
        "df = df[df['rating']>=3]\n",
        "print(len(df))\n",
        "\n",
        "print(\"Rating Distribution\")\n",
        "df.groupby(['rating'])['rating'].count()\n"
      ]
    },
    {
      "cell_type": "markdown",
      "source": [
        "**SPLIT DATA INTO TRAIN AND TEST**"
      ],
      "metadata": {
        "id": "0urUA7imXjXh"
      },
      "id": "0urUA7imXjXh"
    },
    {
      "cell_type": "code",
      "execution_count": null,
      "id": "2a0dc5db",
      "metadata": {
        "id": "2a0dc5db",
        "outputId": "b50c2e1b-6260-431b-89ec-1111d521cafa"
      },
      "outputs": [
        {
          "name": "stdout",
          "output_type": "stream",
          "text": [
            "Train Size  :  74269\n",
            "Test Size :  8253\n",
            "all data :  82522\n"
          ]
        }
      ],
      "source": [
        "train, test = train_test_split(df.values, test_size=0.2, random_state = 16)\n",
        "# random_state = 16\n",
        "#20 percent of data will be use to test\n",
        "train = pd.DataFrame(train, columns = df.columns)\n",
        "print(\"Train Size  : \", len(train))\n",
        "\n",
        "test = pd.DataFrame(test, columns = df.columns)\n",
        "print(\"Test Size : \", len (test))\n",
        "\n",
        "print('all data : ',len(train)+len(test))"
      ]
    },
    {
      "cell_type": "markdown",
      "source": [
        "**Label encoding** Label Encoding is a technique that is used to convert categorical columns into numerical ones so that they can be fitted by machine learning models which only take numerical data."
      ],
      "metadata": {
        "id": "iX9V3JUWXwKp"
      },
      "id": "iX9V3JUWXwKp"
    },
    {
      "cell_type": "code",
      "execution_count": null,
      "id": "415fa558",
      "metadata": {
        "id": "415fa558"
      },
      "outputs": [],
      "source": [
        "le_user = pp.LabelEncoder()\n",
        "le_item = pp.LabelEncoder()\n",
        "train['user_id_idx'] = le_user.fit_transform(train['user_id'].values)\n",
        "train['item_id_idx'] = le_item.fit_transform(train['item_id'].values)"
      ]
    },
    {
      "cell_type": "code",
      "execution_count": null,
      "id": "f95e1d26",
      "metadata": {
        "id": "f95e1d26",
        "outputId": "0997562c-cde9-4578-99dc-e290aa9cf2f2"
      },
      "outputs": [
        {
          "name": "stdout",
          "output_type": "stream",
          "text": [
            "len train_user_ids : 944, len train_item_ids : 1549\n",
            "8227\n"
          ]
        }
      ],
      "source": [
        "train_user_ids = train['user_id'].unique()\n",
        "train_item_ids = train['item_id'].unique()\n",
        "\n",
        "print(f\"len train_user_ids : {len(train_user_ids)}, len train_item_ids : {len(train_item_ids)}\")\n",
        "\n",
        "test = test[(test['user_id'].isin(train_user_ids)) & (test['item_id'].isin(train_item_ids))]\n",
        "print(len(test))"
      ]
    },
    {
      "cell_type": "code",
      "execution_count": null,
      "id": "de4d8e85",
      "metadata": {
        "id": "de4d8e85"
      },
      "outputs": [],
      "source": [
        "test['user_id_idx'] = le_user.transform(test['user_id'].values)\n",
        "test['item_id_idx'] = le_item.transform(test['item_id'].values)"
      ]
    },
    {
      "cell_type": "code",
      "execution_count": null,
      "id": "82ae89c8",
      "metadata": {
        "id": "82ae89c8",
        "outputId": "80b8b7e5-dc34-43e2-c42a-67ca04f24598"
      },
      "outputs": [
        {
          "name": "stdout",
          "output_type": "stream",
          "text": [
            "Number of Unique Users :  944\n",
            "Number of unique Items :  1549\n"
          ]
        }
      ],
      "source": [
        "n_users = train['user_id_idx'].nunique()\n",
        "n_items = train['item_id_idx'].nunique()\n",
        "print(\"Number of Unique Users : \", n_users)\n",
        "print(\"Number of unique Items : \", n_items)"
      ]
    },
    {
      "cell_type": "code",
      "execution_count": null,
      "id": "8201ef39",
      "metadata": {
        "id": "8201ef39"
      },
      "outputs": [],
      "source": [
        "latent_dim = 64 #length of the user/item embedding.\n",
        "n_layers = 3  # the number of times we want to propagate our initial user/item embedding through the graph"
      ]
    },
    {
      "cell_type": "code",
      "execution_count": null,
      "id": "2fdbd037",
      "metadata": {
        "id": "2fdbd037"
      },
      "outputs": [],
      "source": [
        "def convert_to_sparse_tensor(dok_mtrx):\n",
        "\n",
        "    dok_mtrx_coo = dok_mtrx.tocoo().astype(np.float32)\n",
        "    values = dok_mtrx_coo.data\n",
        "    indices = np.vstack((dok_mtrx_coo.row, dok_mtrx_coo.col))\n",
        "\n",
        "    i = torch.LongTensor(indices)\n",
        "    v = torch.FloatTensor(values)\n",
        "    shape = dok_mtrx_coo.shape\n",
        "\n",
        "    dok_mtrx_sparse_tensor = torch.sparse.FloatTensor(i, v, torch.Size(shape))\n",
        "\n",
        "    return dok_mtrx_sparse_tensor"
      ]
    },
    {
      "cell_type": "code",
      "execution_count": null,
      "id": "abf1f2d3",
      "metadata": {
        "id": "abf1f2d3"
      },
      "outputs": [],
      "source": [
        "def get_metrics(user_Embed_wts, item_Embed_wts, n_users, n_items, train_data, test_data, K):\n",
        "\n",
        "    user_Embedding = nn.Embedding(user_Embed_wts.size()[0], user_Embed_wts.size()[1], _weight = user_Embed_wts)\n",
        "    item_Embedding = nn.Embedding(item_Embed_wts.size()[0], item_Embed_wts.size()[1], _weight = item_Embed_wts)\n",
        "\n",
        "    test_user_ids = torch.LongTensor(test_data['user_id_idx'].unique())\n",
        "\n",
        "    relevance_score = torch.matmul(user_Embed_wts, torch.transpose(item_Embed_wts,0, 1))\n",
        "\n",
        "    R = sp.dok_matrix((n_users, n_items), dtype = np.float32)\n",
        "    R[train_data['user_id_idx'], train_data['item_id_idx']] = 1.0\n",
        "\n",
        "    R_tensor = convert_to_sparse_tensor(R)\n",
        "    R_tensor_dense = R_tensor.to_dense()\n",
        "\n",
        "    R_tensor_dense = R_tensor_dense*(-np.inf)\n",
        "    R_tensor_dense = torch.nan_to_num(R_tensor_dense, nan=0.0)\n",
        "\n",
        "    relevance_score = relevance_score+R_tensor_dense\n",
        "\n",
        "    topk_relevance_score = torch.topk(relevance_score, K).values\n",
        "    topk_relevance_indices = torch.topk(relevance_score, K).indices\n",
        "\n",
        "    topk_relevance_indices_df = pd.DataFrame(topk_relevance_indices.numpy(),columns =['top_indx_'+str(x+1) for x in range(K)])\n",
        "\n",
        "    topk_relevance_indices_df['user_ID'] = topk_relevance_indices_df.index\n",
        "\n",
        "    topk_relevance_indices_df['top_rlvnt_itm'] = topk_relevance_indices_df[['top_indx_'+str(x+1) for x in range(K)]].values.tolist()\n",
        "    topk_relevance_indices_df = topk_relevance_indices_df[['user_ID','top_rlvnt_itm']]\n",
        "\n",
        "    test_interacted_items = test_data.groupby('user_id_idx')['item_id_idx'].apply(list).reset_index()\n",
        "\n",
        "    metrics_df = pd.merge(test_interacted_items,topk_relevance_indices_df, how= 'left', left_on = 'user_id_idx',right_on = ['user_ID'])\n",
        "    metrics_df['intrsctn_itm'] = [list(set(a).intersection(b)) for a, b in zip(metrics_df.item_id_idx, metrics_df.top_rlvnt_itm)]\n",
        "\n",
        "\n",
        "    metrics_df['recall'] = metrics_df.apply(lambda x : len(x['intrsctn_itm'])/len(x['item_id_idx']), axis = 1)\n",
        "    metrics_df['precision'] = metrics_df.apply(lambda x : len(x['intrsctn_itm'])/K, axis = 1)\n",
        "\n",
        "    def get_hit_list(item_id_idx, top_rlvnt_itm):\n",
        "        return [1 if x in set(item_id_idx) else 0 for x in top_rlvnt_itm ]\n",
        "\n",
        "    metrics_df['hit_list'] = metrics_df.apply(lambda x : get_hit_list(x['item_id_idx'], x['top_rlvnt_itm']), axis = 1)\n",
        "\n",
        "    def get_dcg_idcg(item_id_idx, hit_list):\n",
        "        idcg  = sum([1 / np.log1p(idx+1) for idx in range(min(len(item_id_idx),len(hit_list)))])\n",
        "        dcg =  sum([hit / np.log1p(idx+1) for idx, hit in enumerate(hit_list)])\n",
        "        return dcg/idcg\n",
        "\n",
        "    def get_cumsum(hit_list):\n",
        "        return np.cumsum(hit_list)\n",
        "\n",
        "    def get_map(item_id_idx, hit_list, hit_list_cumsum):\n",
        "        return sum([hit_cumsum*hit/(idx+1) for idx, (hit, hit_cumsum) in enumerate(zip(hit_list, hit_list_cumsum))])/len(item_id_idx)\n",
        "\n",
        "    metrics_df['ndcg'] = metrics_df.apply(lambda x : get_dcg_idcg(x['item_id_idx'], x['hit_list']), axis = 1)\n",
        "    metrics_df['hit_list_cumsum'] = metrics_df.apply(lambda x : get_cumsum(x['hit_list']), axis = 1)\n",
        "\n",
        "    metrics_df['map'] = metrics_df.apply(lambda x : get_map(x['item_id_idx'], x['hit_list'], x['hit_list_cumsum']), axis = 1)\n",
        "\n",
        "    return metrics_df['recall'].mean(), metrics_df['precision'].mean(), metrics_df['ndcg'].mean(), metrics_df['map'].mean()"
      ]
    },
    {
      "cell_type": "markdown",
      "source": [
        "**LightGCN Model**"
      ],
      "metadata": {
        "id": "7u9AmRy6YJ-h"
      },
      "id": "7u9AmRy6YJ-h"
    },
    {
      "cell_type": "code",
      "execution_count": null,
      "id": "49c885f0",
      "metadata": {
        "id": "49c885f0"
      },
      "outputs": [],
      "source": [
        "class LightGCN(nn.Module):\n",
        "    def __init__(self, data, n_users, n_items, n_layers, latent_dim):\n",
        "        super(LightGCN, self).__init__()\n",
        "        self.data = data\n",
        "        self.n_users = n_users\n",
        "        self.n_items = n_items\n",
        "        self.n_layers = n_layers\n",
        "        self.latent_dim = latent_dim\n",
        "        self.init_embedding()\n",
        "        self.norm_adj_mat_sparse_tensor = self.get_A_tilda()\n",
        "\n",
        "    def init_embedding(self):\n",
        "        self.E0 = nn.Embedding(self.n_users + self.n_items, self.latent_dim)\n",
        "        nn.init.xavier_uniform_(self.E0.weight)\n",
        "        self.E0.weight = nn.Parameter(self.E0.weight)\n",
        "\n",
        "    def get_A_tilda(self):\n",
        "        R = sp.dok_matrix((self.n_users, self.n_items), dtype = np.float32)\n",
        "        R[self.data['user_id_idx'], self.data['item_id_idx']] = 1.0\n",
        "\n",
        "        adj_mat = sp.dok_matrix(\n",
        "                (self.n_users + self.n_items, self.n_users + self.n_items), dtype=np.float32\n",
        "            )\n",
        "        adj_mat = adj_mat.tolil()\n",
        "        R = R.tolil()\n",
        "\n",
        "        adj_mat[: n_users, n_users :] = R\n",
        "        adj_mat[n_users :, : n_users] = R.T\n",
        "        adj_mat = adj_mat.todok()\n",
        "\n",
        "        rowsum = np.array(adj_mat.sum(1))\n",
        "        d_inv = np.power(rowsum + 1e-9, -0.5).flatten()\n",
        "        d_inv[np.isinf(d_inv)] = 0.0\n",
        "        d_mat_inv = sp.diags(d_inv)\n",
        "        norm_adj_mat = d_mat_inv.dot(adj_mat)\n",
        "        norm_adj_mat = norm_adj_mat.dot(d_mat_inv)\n",
        "\n",
        "        # Below Code is toconvert the dok_matrix to sparse tensor.\n",
        "\n",
        "        norm_adj_mat_coo = norm_adj_mat.tocoo().astype(np.float32)\n",
        "        values = norm_adj_mat_coo.data\n",
        "        indices = np.vstack((norm_adj_mat_coo.row, norm_adj_mat_coo.col))\n",
        "\n",
        "        i = torch.LongTensor(indices)\n",
        "        v = torch.FloatTensor(values)\n",
        "        shape = norm_adj_mat_coo.shape\n",
        "\n",
        "        norm_adj_mat_sparse_tensor = torch.sparse.FloatTensor(i, v, torch.Size(shape))\n",
        "\n",
        "        return norm_adj_mat_sparse_tensor\n",
        "\n",
        "    def propagate_through_layers(self):\n",
        "        all_layer_embedding = [self.E0.weight]\n",
        "        E_lyr = self.E0.weight\n",
        "\n",
        "        for layer in range(self.n_layers):\n",
        "            E_lyr = torch.sparse.mm(self.norm_adj_mat_sparse_tensor, E_lyr)\n",
        "            all_layer_embedding.append(E_lyr)\n",
        "\n",
        "        all_layer_embedding = torch.stack(all_layer_embedding)\n",
        "        mean_layer_embedding = torch.mean(all_layer_embedding, axis = 0)\n",
        "\n",
        "        final_user_Embed, final_item_Embed = torch.split(mean_layer_embedding, [n_users, n_items])\n",
        "        initial_user_Embed, initial_item_Embed = torch.split(self.E0.weight, [n_users, n_items])\n",
        "\n",
        "        return final_user_Embed, final_item_Embed, initial_user_Embed, initial_item_Embed\n",
        "\n",
        "    def forward(self, users, pos_items, neg_items):\n",
        "        final_user_Embed, final_item_Embed, initial_user_Embed, initial_item_Embed = self.propagate_through_layers()\n",
        "\n",
        "        users_emb, pos_emb, neg_emb = final_user_Embed[users], final_item_Embed[pos_items], final_item_Embed[neg_items]\n",
        "        userEmb0,  posEmb0, negEmb0 = initial_user_Embed[users], initial_item_Embed[pos_items], initial_item_Embed[neg_items]\n",
        "\n",
        "        return users_emb, pos_emb, neg_emb, userEmb0,  posEmb0, negEmb0"
      ]
    },
    {
      "cell_type": "markdown",
      "source": [
        "# The forward method takes the user, positive item, and negative item indices as inputs and returns the corresponding embeddings."
      ],
      "metadata": {
        "id": "YkcQ0Z0IYTpn"
      },
      "id": "YkcQ0Z0IYTpn"
    },
    {
      "cell_type": "code",
      "execution_count": null,
      "id": "e0e602d4",
      "metadata": {
        "id": "e0e602d4"
      },
      "outputs": [],
      "source": [
        "lightGCN = LightGCN(train, n_users, n_items, n_layers, latent_dim)"
      ]
    },
    {
      "cell_type": "code",
      "execution_count": null,
      "id": "a8130d52",
      "metadata": {
        "id": "a8130d52",
        "outputId": "71dc0b58-5185-41a6-92f4-f9f7f2a48b0b"
      },
      "outputs": [
        {
          "name": "stdout",
          "output_type": "stream",
          "text": [
            "Size of Learnable Embedding :  torch.Size([2493, 64])\n"
          ]
        }
      ],
      "source": [
        "print(\"Size of Learnable Embedding : \", list(lightGCN.parameters())[0].size())"
      ]
    },
    {
      "cell_type": "markdown",
      "source": [
        "# The bpr_loss function calculates the Bayesian Personalized Ranking (BPR) loss given the user embeddings, positive item embeddings, and negative item embeddings.\n"
      ],
      "metadata": {
        "id": "qov4GA29YdZv"
      },
      "id": "qov4GA29YdZv"
    },
    {
      "cell_type": "code",
      "execution_count": null,
      "id": "14325094",
      "metadata": {
        "id": "14325094"
      },
      "outputs": [],
      "source": [
        "def bpr_loss(users, users_emb, pos_emb, neg_emb, userEmb0,  posEmb0, negEmb0):\n",
        "\n",
        "    reg_loss = (1/2)*(userEmb0.norm().pow(2) +\n",
        "                    posEmb0.norm().pow(2)  +\n",
        "                    negEmb0.norm().pow(2))/float(len(users))\n",
        "    pos_scores = torch.mul(users_emb, pos_emb)\n",
        "    pos_scores = torch.sum(pos_scores, dim=1)\n",
        "    neg_scores = torch.mul(users_emb, neg_emb)\n",
        "    neg_scores = torch.sum(neg_scores, dim=1)\n",
        "\n",
        "    loss = torch.mean(torch.nn.functional.softplus(neg_scores - pos_scores))\n",
        "\n",
        "    return loss, reg_loss"
      ]
    },
    {
      "cell_type": "markdown",
      "source": [
        "#The data_loader function generates mini-batches of user, positive item, and negative item indices for training."
      ],
      "metadata": {
        "id": "To4AdYB5Ycgv"
      },
      "id": "To4AdYB5Ycgv"
    },
    {
      "cell_type": "code",
      "execution_count": null,
      "id": "2ac3bb34",
      "metadata": {
        "id": "2ac3bb34"
      },
      "outputs": [],
      "source": [
        "def data_loader(data, batch_size, n_usr, n_itm):\n",
        "\n",
        "    interected_items_df = data.groupby('user_id_idx')['item_id_idx'].apply(list).reset_index()\n",
        "\n",
        "    def sample_neg(x):\n",
        "        while True:\n",
        "            neg_id = random.randint(0, n_itm - 1)\n",
        "            if neg_id not in x:\n",
        "                return neg_id\n",
        "\n",
        "    indices = [x for x in range(n_usr)]\n",
        "\n",
        "    if n_usr < batch_size:\n",
        "        users = [random.choice(indices) for _ in range(batch_size)]\n",
        "    else:\n",
        "        users = random.sample(indices, batch_size)\n",
        "\n",
        "    users.sort()\n",
        "\n",
        "    users_df = pd.DataFrame(users,columns = ['users'])\n",
        "\n",
        "    interected_items_df = pd.merge(interected_items_df, users_df, how = 'right', left_on = 'user_id_idx', right_on = 'users')\n",
        "\n",
        "    pos_items = interected_items_df['item_id_idx'].apply(lambda x : random.choice(x)).values\n",
        "\n",
        "    neg_items = interected_items_df['item_id_idx'].apply(lambda x: sample_neg(x)).values\n",
        "\n",
        "    return list(users), list(pos_items), list(neg_items)"
      ]
    },
    {
      "cell_type": "code",
      "execution_count": null,
      "id": "4b8232c0",
      "metadata": {
        "id": "4b8232c0"
      },
      "outputs": [],
      "source": [
        "optimizer = torch.optim.Adam(lightGCN.parameters(), lr = 0.005)"
      ]
    },
    {
      "cell_type": "code",
      "execution_count": null,
      "id": "a8d024f6",
      "metadata": {
        "id": "a8d024f6"
      },
      "outputs": [],
      "source": [
        "EPOCHS = 30\n",
        "BATCH_SIZE = 1024\n",
        "DECAY = 0.0001\n",
        "K = 10"
      ]
    },
    {
      "cell_type": "code",
      "execution_count": null,
      "id": "4b53a15b",
      "metadata": {
        "id": "4b53a15b",
        "outputId": "25991429-2a2a-4bca-8d3e-5f6f8760ee9a"
      },
      "outputs": [
        {
          "name": "stderr",
          "output_type": "stream",
          "text": [
            "Epochs:   3%|█▏                                  | 1/30 [00:03<01:40,  3.48s/it]"
          ]
        },
        {
          "name": "stdout",
          "output_type": "stream",
          "text": [
            "Epoch 1 - Train Time: 3.32s, Eval Time: 0.16s\n"
          ]
        },
        {
          "name": "stderr",
          "output_type": "stream",
          "text": [
            "Epochs:   7%|██▍                                 | 2/30 [00:07<01:38,  3.53s/it]"
          ]
        },
        {
          "name": "stdout",
          "output_type": "stream",
          "text": [
            "Epoch 2 - Train Time: 3.40s, Eval Time: 0.16s\n"
          ]
        },
        {
          "name": "stderr",
          "output_type": "stream",
          "text": [
            "Epochs:  10%|███▌                                | 3/30 [00:10<01:34,  3.51s/it]"
          ]
        },
        {
          "name": "stdout",
          "output_type": "stream",
          "text": [
            "Epoch 3 - Train Time: 3.34s, Eval Time: 0.15s\n"
          ]
        },
        {
          "name": "stderr",
          "output_type": "stream",
          "text": [
            "Epochs:  13%|████▊                               | 4/30 [00:13<01:30,  3.49s/it]"
          ]
        },
        {
          "name": "stdout",
          "output_type": "stream",
          "text": [
            "Epoch 4 - Train Time: 3.30s, Eval Time: 0.15s\n"
          ]
        },
        {
          "name": "stderr",
          "output_type": "stream",
          "text": [
            "Epochs:  17%|██████                              | 5/30 [00:17<01:27,  3.49s/it]"
          ]
        },
        {
          "name": "stdout",
          "output_type": "stream",
          "text": [
            "Epoch 5 - Train Time: 3.33s, Eval Time: 0.15s\n"
          ]
        },
        {
          "name": "stderr",
          "output_type": "stream",
          "text": [
            "Epochs:  20%|███████▏                            | 6/30 [00:20<01:23,  3.47s/it]"
          ]
        },
        {
          "name": "stdout",
          "output_type": "stream",
          "text": [
            "Epoch 6 - Train Time: 3.29s, Eval Time: 0.15s\n"
          ]
        },
        {
          "name": "stderr",
          "output_type": "stream",
          "text": [
            "Epochs:  23%|████████▍                           | 7/30 [00:24<01:20,  3.48s/it]"
          ]
        },
        {
          "name": "stdout",
          "output_type": "stream",
          "text": [
            "Epoch 7 - Train Time: 3.36s, Eval Time: 0.15s\n"
          ]
        },
        {
          "name": "stderr",
          "output_type": "stream",
          "text": [
            "Epochs:  27%|█████████▌                          | 8/30 [00:27<01:16,  3.47s/it]"
          ]
        },
        {
          "name": "stdout",
          "output_type": "stream",
          "text": [
            "Epoch 8 - Train Time: 3.30s, Eval Time: 0.15s\n"
          ]
        },
        {
          "name": "stderr",
          "output_type": "stream",
          "text": [
            "Epochs:  30%|██████████▊                         | 9/30 [00:31<01:13,  3.50s/it]"
          ]
        },
        {
          "name": "stdout",
          "output_type": "stream",
          "text": [
            "Epoch 9 - Train Time: 3.41s, Eval Time: 0.15s\n"
          ]
        },
        {
          "name": "stderr",
          "output_type": "stream",
          "text": [
            "Epochs:  33%|███████████▋                       | 10/30 [00:34<01:09,  3.49s/it]"
          ]
        },
        {
          "name": "stdout",
          "output_type": "stream",
          "text": [
            "Epoch 10 - Train Time: 3.30s, Eval Time: 0.15s\n"
          ]
        },
        {
          "name": "stderr",
          "output_type": "stream",
          "text": [
            "Epochs:  37%|████████████▊                      | 11/30 [00:38<01:06,  3.49s/it]"
          ]
        },
        {
          "name": "stdout",
          "output_type": "stream",
          "text": [
            "Epoch 11 - Train Time: 3.32s, Eval Time: 0.16s\n"
          ]
        },
        {
          "name": "stderr",
          "output_type": "stream",
          "text": [
            "Epochs:  40%|██████████████                     | 12/30 [00:41<01:02,  3.49s/it]"
          ]
        },
        {
          "name": "stdout",
          "output_type": "stream",
          "text": [
            "Epoch 12 - Train Time: 3.34s, Eval Time: 0.15s\n"
          ]
        },
        {
          "name": "stderr",
          "output_type": "stream",
          "text": [
            "Epochs:  43%|███████████████▏                   | 13/30 [00:45<00:59,  3.48s/it]"
          ]
        },
        {
          "name": "stdout",
          "output_type": "stream",
          "text": [
            "Epoch 13 - Train Time: 3.30s, Eval Time: 0.15s\n"
          ]
        },
        {
          "name": "stderr",
          "output_type": "stream",
          "text": [
            "Epochs:  47%|████████████████▎                  | 14/30 [00:48<00:55,  3.47s/it]"
          ]
        },
        {
          "name": "stdout",
          "output_type": "stream",
          "text": [
            "Epoch 14 - Train Time: 3.31s, Eval Time: 0.15s\n"
          ]
        },
        {
          "name": "stderr",
          "output_type": "stream",
          "text": [
            "Epochs:  50%|█████████████████▌                 | 15/30 [00:52<00:52,  3.48s/it]"
          ]
        },
        {
          "name": "stdout",
          "output_type": "stream",
          "text": [
            "Epoch 15 - Train Time: 3.33s, Eval Time: 0.15s\n"
          ]
        },
        {
          "name": "stderr",
          "output_type": "stream",
          "text": [
            "Epochs:  53%|██████████████████▋                | 16/30 [00:55<00:48,  3.49s/it]"
          ]
        },
        {
          "name": "stdout",
          "output_type": "stream",
          "text": [
            "Epoch 16 - Train Time: 3.38s, Eval Time: 0.15s\n"
          ]
        },
        {
          "name": "stderr",
          "output_type": "stream",
          "text": [
            "Epochs:  57%|███████████████████▊               | 17/30 [00:59<00:45,  3.48s/it]"
          ]
        },
        {
          "name": "stdout",
          "output_type": "stream",
          "text": [
            "Epoch 17 - Train Time: 3.30s, Eval Time: 0.15s\n"
          ]
        },
        {
          "name": "stderr",
          "output_type": "stream",
          "text": [
            "Epochs:  60%|█████████████████████              | 18/30 [01:02<00:41,  3.47s/it]"
          ]
        },
        {
          "name": "stdout",
          "output_type": "stream",
          "text": [
            "Epoch 18 - Train Time: 3.31s, Eval Time: 0.15s\n"
          ]
        },
        {
          "name": "stderr",
          "output_type": "stream",
          "text": [
            "Epochs:  63%|██████████████████████▏            | 19/30 [01:06<00:38,  3.47s/it]"
          ]
        },
        {
          "name": "stdout",
          "output_type": "stream",
          "text": [
            "Epoch 19 - Train Time: 3.30s, Eval Time: 0.15s\n"
          ]
        },
        {
          "name": "stderr",
          "output_type": "stream",
          "text": [
            "Epochs:  67%|███████████████████████▎           | 20/30 [01:09<00:34,  3.47s/it]"
          ]
        },
        {
          "name": "stdout",
          "output_type": "stream",
          "text": [
            "Epoch 20 - Train Time: 3.31s, Eval Time: 0.15s\n"
          ]
        },
        {
          "name": "stderr",
          "output_type": "stream",
          "text": [
            "Epochs:  70%|████████████████████████▌          | 21/30 [01:13<00:31,  3.49s/it]"
          ]
        },
        {
          "name": "stdout",
          "output_type": "stream",
          "text": [
            "Epoch 21 - Train Time: 3.40s, Eval Time: 0.15s\n"
          ]
        },
        {
          "name": "stderr",
          "output_type": "stream",
          "text": [
            "Epochs:  73%|█████████████████████████▋         | 22/30 [01:16<00:27,  3.48s/it]"
          ]
        },
        {
          "name": "stdout",
          "output_type": "stream",
          "text": [
            "Epoch 22 - Train Time: 3.30s, Eval Time: 0.15s\n"
          ]
        },
        {
          "name": "stderr",
          "output_type": "stream",
          "text": [
            "Epochs:  77%|██████████████████████████▊        | 23/30 [01:20<00:24,  3.47s/it]"
          ]
        },
        {
          "name": "stdout",
          "output_type": "stream",
          "text": [
            "Epoch 23 - Train Time: 3.30s, Eval Time: 0.15s\n"
          ]
        },
        {
          "name": "stderr",
          "output_type": "stream",
          "text": [
            "Epochs:  80%|████████████████████████████       | 24/30 [01:23<00:20,  3.47s/it]"
          ]
        },
        {
          "name": "stdout",
          "output_type": "stream",
          "text": [
            "Epoch 24 - Train Time: 3.30s, Eval Time: 0.15s\n"
          ]
        },
        {
          "name": "stderr",
          "output_type": "stream",
          "text": [
            "Epochs:  83%|█████████████████████████████▏     | 25/30 [01:27<00:17,  3.48s/it]"
          ]
        },
        {
          "name": "stdout",
          "output_type": "stream",
          "text": [
            "Epoch 25 - Train Time: 3.36s, Eval Time: 0.15s\n"
          ]
        },
        {
          "name": "stderr",
          "output_type": "stream",
          "text": [
            "Epochs:  87%|██████████████████████████████▎    | 26/30 [01:30<00:13,  3.47s/it]"
          ]
        },
        {
          "name": "stdout",
          "output_type": "stream",
          "text": [
            "Epoch 26 - Train Time: 3.30s, Eval Time: 0.15s\n"
          ]
        },
        {
          "name": "stderr",
          "output_type": "stream",
          "text": [
            "Epochs:  90%|███████████████████████████████▌   | 27/30 [01:33<00:10,  3.47s/it]"
          ]
        },
        {
          "name": "stdout",
          "output_type": "stream",
          "text": [
            "Epoch 27 - Train Time: 3.30s, Eval Time: 0.15s\n"
          ]
        },
        {
          "name": "stderr",
          "output_type": "stream",
          "text": [
            "Epochs:  93%|████████████████████████████████▋  | 28/30 [01:37<00:06,  3.46s/it]"
          ]
        },
        {
          "name": "stdout",
          "output_type": "stream",
          "text": [
            "Epoch 28 - Train Time: 3.30s, Eval Time: 0.15s\n"
          ]
        },
        {
          "name": "stderr",
          "output_type": "stream",
          "text": [
            "Epochs:  97%|█████████████████████████████████▊ | 29/30 [01:40<00:03,  3.46s/it]"
          ]
        },
        {
          "name": "stdout",
          "output_type": "stream",
          "text": [
            "Epoch 29 - Train Time: 3.30s, Eval Time: 0.15s\n"
          ]
        },
        {
          "name": "stderr",
          "output_type": "stream",
          "text": [
            "Epochs: 100%|███████████████████████████████████| 30/30 [01:44<00:00,  3.48s/it]"
          ]
        },
        {
          "name": "stdout",
          "output_type": "stream",
          "text": [
            "Epoch 30 - Train Time: 3.43s, Eval Time: 0.15s\n"
          ]
        },
        {
          "name": "stderr",
          "output_type": "stream",
          "text": [
            "\n"
          ]
        }
      ],
      "source": [
        "from tqdm import tqdm\n",
        "import time\n",
        "\n",
        "loss_list_epoch = []\n",
        "MF_loss_list_epoch = []\n",
        "reg_loss_list_epoch = []\n",
        "recall_list = []\n",
        "precision_list = []\n",
        "ndcg_list = []\n",
        "map_list = []\n",
        "train_time_list = []\n",
        "eval_time_list = []\n",
        "\n",
        "for epoch in tqdm(range(EPOCHS), desc=\"Epochs\"):\n",
        "    n_batch = int(len(train) / BATCH_SIZE)\n",
        "    final_loss_list = []\n",
        "    MF_loss_list = []\n",
        "    reg_loss_list = []\n",
        "    best_ndcg = -1\n",
        "    train_start_time = time.time()\n",
        "    lightGCN.train()\n",
        "\n",
        "    for batch_idx in range(n_batch):\n",
        "        optimizer.zero_grad()\n",
        "        users, pos_items, neg_items = data_loader(train, BATCH_SIZE, n_users, n_items)\n",
        "        users_emb, pos_emb, neg_emb, userEmb0, posEmb0, negEmb0 = lightGCN.forward(users, pos_items, neg_items)\n",
        "        mf_loss, reg_loss = bpr_loss(users, users_emb, pos_emb, neg_emb, userEmb0, posEmb0, negEmb0)\n",
        "        reg_loss = DECAY * reg_loss\n",
        "        final_loss = mf_loss + reg_loss\n",
        "        final_loss.backward()\n",
        "        optimizer.step()\n",
        "        final_loss_list.append(final_loss.item())\n",
        "        MF_loss_list.append(mf_loss.item())\n",
        "        reg_loss_list.append(reg_loss.item())\n",
        "\n",
        "    train_end_time = time.time()\n",
        "    train_time = train_end_time - train_start_time\n",
        "\n",
        "    lightGCN.eval()\n",
        "    with torch.no_grad():\n",
        "        final_user_Embed, final_item_Embed, initial_user_Embed, initial_item_Embed = lightGCN.propagate_through_layers()\n",
        "        test_topK_recall, test_topK_precision, test_topK_ndcg, test_topK_map = get_metrics(final_user_Embed, final_item_Embed, n_users, n_items, train, test, K)\n",
        "\n",
        "    if test_topK_ndcg > best_ndcg:\n",
        "        best_ndcg = test_topK_ndcg\n",
        "        torch.save(final_user_Embed, 'final_user_Embed.pt')\n",
        "        torch.save(final_item_Embed, 'final_item_Embed.pt')\n",
        "        torch.save(initial_user_Embed, 'initial_user_Embed.pt')\n",
        "        torch.save(initial_item_Embed, 'initial_item_Embed.pt')\n",
        "\n",
        "    eval_time = time.time() - train_end_time\n",
        "\n",
        "    loss_list_epoch.append(round(np.mean(final_loss_list), 4))\n",
        "    MF_loss_list_epoch.append(round(np.mean(MF_loss_list), 4))\n",
        "    reg_loss_list_epoch.append(round(np.mean(reg_loss_list), 4))\n",
        "    recall_list.append(round(test_topK_recall, 4))\n",
        "    precision_list.append(round(test_topK_precision, 4))\n",
        "    ndcg_list.append(round(test_topK_ndcg, 4))\n",
        "    map_list.append(round(test_topK_map, 4))\n",
        "    train_time_list.append(train_time)\n",
        "    eval_time_list.append(eval_time)\n",
        "\n",
        "    # Print loading time for the current epoch\n",
        "    print(f\"Epoch {epoch + 1} - Train Time: {train_time:.2f}s, Eval Time: {eval_time:.2f}s\")\n"
      ]
    },
    {
      "cell_type": "code",
      "execution_count": null,
      "id": "57cd5075",
      "metadata": {
        "id": "57cd5075"
      },
      "outputs": [],
      "source": [
        "epoch_list = [(i+1) for i in range(EPOCHS)]\n"
      ]
    },
    {
      "cell_type": "code",
      "execution_count": null,
      "id": "e15e808d",
      "metadata": {
        "id": "e15e808d",
        "outputId": "03e19f9e-8606-4c88-ceef-2acf05a155de"
      },
      "outputs": [
        {
          "data": {
            "text/plain": [
              "<matplotlib.legend.Legend at 0x7f8ad29f4a30>"
            ]
          },
          "execution_count": 232,
          "metadata": {},
          "output_type": "execute_result"
        },
        {
          "data": {
            "image/png": "[encoded data removed]",
            "text/plain": [
              "<Figure size 640x480 with 1 Axes>"
            ]
          },
          "metadata": {},
          "output_type": "display_data"
        }
      ],
      "source": [
        "plt.plot(epoch_list, recall_list, label='Recall')\n",
        "plt.plot(epoch_list, precision_list, label='Precision')\n",
        "plt.plot(epoch_list, ndcg_list, label='NDCG')\n",
        "plt.plot(epoch_list, map_list, label='MAP')\n",
        "plt.xlabel('Epoch')\n",
        "plt.ylabel('Metrics')\n",
        "plt.legend()\n"
      ]
    },
    {
      "cell_type": "code",
      "execution_count": null,
      "id": "5128f6a4",
      "metadata": {
        "id": "5128f6a4",
        "outputId": "d72a3e7b-60ec-4715-e522-a8b32599d101"
      },
      "outputs": [
        {
          "data": {
            "text/plain": [
              "<matplotlib.legend.Legend at 0x7f8ad24111c0>"
            ]
          },
          "execution_count": 233,
          "metadata": {},
          "output_type": "execute_result"
        },
        {
          "data": {
            "image/png": "[encoded data removed]",
            "text/plain": [
              "<Figure size 640x480 with 1 Axes>"
            ]
          },
          "metadata": {},
          "output_type": "display_data"
        }
      ],
      "source": [
        "\n",
        "plt.plot(epoch_list, loss_list_epoch, label='Total Training Loss')\n",
        "plt.plot(epoch_list, MF_loss_list_epoch, label='MF Training Loss')\n",
        "plt.plot(epoch_list, reg_loss_list_epoch, label='Reg Training Loss')\n",
        "\n",
        "plt.xlabel('Epoch')\n",
        "plt.ylabel('Loss')\n",
        "plt.legend()"
      ]
    },
    {
      "cell_type": "code",
      "execution_count": null,
      "id": "887fc553",
      "metadata": {
        "id": "887fc553",
        "outputId": "9542e741-679d-4c0d-f6c4-c1578894069e"
      },
      "outputs": [
        {
          "name": "stdout",
          "output_type": "stream",
          "text": [
            "Averge time taken to train an epoch ->  3.33  seconds\n",
            "Averge time taken to eval an epoch ->  0.15  seconds\n"
          ]
        }
      ],
      "source": [
        "print(\"Averge time taken to train an epoch -> \", round(np.mean(train_time_list),2), \" seconds\")\n",
        "print(\"Averge time taken to eval an epoch -> \", round(np.mean(eval_time_list),2), \" seconds\")"
      ]
    },
    {
      "cell_type": "code",
      "execution_count": null,
      "id": "69762096",
      "metadata": {
        "id": "69762096",
        "outputId": "bcd12803-fb2c-4865-b9c8-e123a0c6d8de"
      },
      "outputs": [
        {
          "name": "stdout",
          "output_type": "stream",
          "text": [
            "Last Epoch's Test Data Recall ->  0.2608\n",
            "Last Epoch's Test Data Precision ->  0.1808\n",
            "Last Epoch's Test Data NDCG ->  0.2797\n",
            "Last Epoch's Test Data MAP ->  0.1335\n",
            "Last Epoch's Train Data Loss ->  0.1223\n"
          ]
        }
      ],
      "source": [
        "print(\"Last Epoch's Test Data Recall -> \", recall_list[-1])\n",
        "print(\"Last Epoch's Test Data Precision -> \", precision_list[-1])\n",
        "print(\"Last Epoch's Test Data NDCG -> \", ndcg_list[-1])\n",
        "print(\"Last Epoch's Test Data MAP -> \", map_list[-1])\n",
        "\n",
        "print(\"Last Epoch's Train Data Loss -> \", loss_list_epoch[-1])"
      ]
    },
    {
      "cell_type": "markdown",
      "id": "f78a3631",
      "metadata": {
        "id": "f78a3631"
      },
      "source": [
        "NDCG is a measure of the effectiveness of a ranking system, taking into account the position of relevant items in the ranked list.It is based on the idea that items that are higher in the ranking should be given more credit than items that are lower in the ranking\n"
      ]
    },
    {
      "cell_type": "markdown",
      "id": "f6c89db4",
      "metadata": {
        "id": "f6c89db4"
      },
      "source": [
        "Mean Average Precision at K (MAP@K) is one of the most commonly used evaluation metrics for recommender systems and other ranking related classification tasks. Since this metric is a composition of different error metrics or layers, it may not be that easy to understand at first glance."
      ]
    },
    {
      "cell_type": "markdown",
      "id": "f68f8f7e",
      "metadata": {
        "id": "f68f8f7e"
      },
      "source": [
        "precision can be seen as a measure of quality. High precision means that our model returns more relevant than irrelevant results or recommendations."
      ]
    },
    {
      "cell_type": "markdown",
      "source": [
        "# The similarity between the target item and all other items is calculated using dot product similarity.\n",
        "# The items are sorted based on similarity scores.\n",
        "# The top recommended movies are printed based on the sorted similarity scores.\n"
      ],
      "metadata": {
        "id": "5EqPFToUZWrX"
      },
      "id": "5EqPFToUZWrX"
    },
    {
      "cell_type": "code",
      "execution_count": null,
      "id": "63b6db96",
      "metadata": {
        "id": "63b6db96",
        "outputId": "0cae87e0-79dc-4c1d-9cac-952875b4a048"
      },
      "outputs": [
        {
          "name": "stdout",
          "output_type": "stream",
          "text": [
            "Movie Title:  Toy Story (1995)\n",
            "tensor([209, 171, 173,  49,  97, 203])\n",
            "Recommended Movies After Watching Toy Story (1995):\n",
            "Movie with item ID 209 not found in movie_titles DataFrame.\n",
            "Movie with item ID 171 not found in movie_titles DataFrame.\n",
            "Movie with item ID 173 not found in movie_titles DataFrame.\n",
            "Movie with item ID 49 not found in movie_titles DataFrame.\n",
            "Movie with item ID 97 not found in movie_titles DataFrame.\n",
            "Movie with item ID 203 not found in movie_titles DataFrame.\n"
          ]
        }
      ],
      "source": [
        "# Load the trained model embeddings\n",
        "final_user_Embed = torch.load('final_user_Embed.pt')\n",
        "final_item_Embed = torch.load('final_item_Embed.pt')\n",
        "\n",
        "movie_id = 1\n",
        "\n",
        "# Get the movie title for the watched movie\n",
        "movie_title = movie_titles[movie_titles['item_id'] == movie_id]['title'].values[0]\n",
        "print(\"Movie Title: \", movie_title)\n",
        "\n",
        "target_item_embedding = final_item_Embed[movie_id]\n",
        "\n",
        "# Calculate the similarity between the target item and all other items\n",
        "similarity_scores = torch.matmul(final_item_Embed, target_item_embedding)\n",
        "sorted_indices = torch.argsort(similarity_scores, descending=True)\n",
        "\n",
        "recommended_items = sorted_indices[:6]\n",
        "print(recommended_items)\n",
        "\n",
        "# Print the recommended movie titles\n",
        "print(f\"Recommended Movies After Watching {movie_title}:\")\n",
        "for item_id in recommended_items:\n",
        "    if item_id in movie_titles['item_id'].values:\n",
        "        movie_title = movie_titles[movie_titles['item_id'] == item_id]['title'].values[0]\n",
        "        print(movie_title)\n",
        "    else:\n",
        "        print(f\"Movie with item ID {item_id} not found in movie_titles DataFrame.\")\n"
      ]
    },
    {
      "cell_type": "code",
      "execution_count": null,
      "id": "1f0a337d",
      "metadata": {
        "id": "1f0a337d"
      },
      "outputs": [],
      "source": []
    },
    {
      "cell_type": "code",
      "execution_count": null,
      "id": "88017d40",
      "metadata": {
        "id": "88017d40"
      },
      "outputs": [],
      "source": []
    }
  ],
  "metadata": {
    "kernelspec": {
      "display_name": "Python 3 (ipykernel)",
      "language": "python",
      "name": "python3"
    },
    "language_info": {
      "codemirror_mode": {
        "name": "ipython",
        "version": 3
      },
      "file_extension": ".py",
      "mimetype": "text/x-python",
      "name": "python",
      "nbconvert_exporter": "python",
      "pygments_lexer": "ipython3",
      "version": "3.9.13"
    },
    "colab": {
      "provenance": []
    }
  },
  "nbformat": 4,
  "nbformat_minor": 5
}